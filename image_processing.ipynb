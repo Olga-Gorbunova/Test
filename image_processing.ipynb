
#### 2. `image_processing.py`

Откройте файл `image_processing.py` и добавьте в него код, который мы разработали выше.
```python
from PIL import Image, ImageFilter

def resize_image(image, size):
    """Изменение размера изображения."""
    return image.resize(size)

def convert_to_bw(image):
    """Конвертация изображения в черно-белое."""
    return image.convert("L")

def apply_gaussian_blur(image, radius):
    """Применение фильтра Гаусса для размытия изображения."""
    return image.filter(ImageFilter.GaussianBlur(radius))

def process_image(file_path, new_size=None, to_bw=False, blur_radius=None):
    """Обработка изображения: изменение размера, черно-белое или размытие."""
    image = Image.open(file_path)
    
    if new_size:
        image = resize_image(image, new_size)
    
    if to_bw:
        image = convert_to_bw(image)
    
    if blur_radius:
        image = apply_gaussian_blur(image, blur_radius)
    
    return image
